{
 "cells": [
  {
   "cell_type": "markdown",
   "metadata": {},
   "source": [
    "# load 3D volume"
   ]
  },
  {
   "cell_type": "code",
   "execution_count": 1,
   "metadata": {},
   "outputs": [],
   "source": [
    "import nibabel as nib\n",
    "\n",
    "# 读取nii.gz文件\n",
    "nii_img = nib.load('/jhcnas1/chenzhixuan/CTRG/Chest_new_1_volume/1038.nii.gz')\n",
    "\n",
    "# # 获取图像数据\n",
    "# data = nii_img.get_fdata()\n",
    "\n",
    "# # 获取图像的头信息\n",
    "# header = nii_img.header\n",
    "\n",
    "# # 获取图像的空间坐标信息\n",
    "# affine = nii_img.affine\n",
    "\n",
    "# # 打印图像信息\n",
    "# print(header)\n",
    "# print(affine)\n",
    "\n",
    "# 进行进一步的操作，例如对图像数据进行处理或可视化\n",
    "# ..."
   ]
  },
  {
   "cell_type": "code",
   "execution_count": 8,
   "metadata": {},
   "outputs": [
    {
     "name": "stdout",
     "output_type": "stream",
     "text": [
      "(512, 512, 361)\n"
     ]
    }
   ],
   "source": [
    "import SimpleITK as sitk\n",
    "\n",
    "# 读取nii.gz文件\n",
    "sitk_img = sitk.ReadImage('/data/chenzhixuan/data/CTRG/Chest_new_1_volume/1044.nii.gz')\n",
    "img_array = sitk.GetArrayFromImage(sitk_img)\n",
    "print(img_array.shape)  # (512, 512, 1)"
   ]
  },
  {
   "cell_type": "code",
   "execution_count": 11,
   "metadata": {},
   "outputs": [],
   "source": [
    "img_array = sitk.GetArrayFromImage(sitk_img)"
   ]
  },
  {
   "cell_type": "markdown",
   "metadata": {},
   "source": [
    "# analysis the diseases distribution"
   ]
  },
  {
   "cell_type": "code",
   "execution_count": 4,
   "metadata": {},
   "outputs": [],
   "source": [
    "import json\n",
    "import pandas as pd\n",
    "\n",
    "# 打开并读取JSON文件\n",
    "with open('/home/chenzhixuan/Workspace/Dia-LLaMA/src/Dataset/my_dataset/annotation.json', 'r') as file:\n",
    "    data = json.load(file)\n",
    "\n",
    "# read label\n",
    "label = pd.read_csv('/home/chenzhixuan/Workspace/Dia-LLaMA/src/Dataset/my_dataset/CTRG_finding_labels.csv')"
   ]
  },
  {
   "cell_type": "code",
   "execution_count": 24,
   "metadata": {},
   "outputs": [],
   "source": [
    "# extract label of train dataset\n",
    "train_data = data['train']\n",
    "train_data_id = [int(i['id']) for i in train_data]\n",
    "train_label = label[label['id'].isin(train_data_id)]\n",
    "\n",
    "train_label = (train_label == 1).astype(int)\n",
    "\n",
    "# 对所有row相加再除以总数\n",
    "train_dist = train_label.sum(axis=0) / len(train_label)\n"
   ]
  },
  {
   "cell_type": "code",
   "execution_count": 25,
   "metadata": {},
   "outputs": [
    {
     "data": {
      "text/plain": [
       "id                            0.000792\n",
       "enlarged_cardiomediastinum    0.352615\n",
       "cardiomegaly                  0.081616\n",
       "lung_opacity                  0.016640\n",
       "lung_lesion                   0.559429\n",
       "edema                         0.004754\n",
       "consolidation                 0.042789\n",
       "pneumonia                     0.000000\n",
       "atelectasis                   0.005547\n",
       "pneumothorax                  0.000000\n",
       "pleural_effusion              0.117274\n",
       "pleural_other                 0.243265\n",
       "fracture                      0.009509\n",
       "support_devices               0.059429\n",
       "no_finding                    0.046751\n",
       "dtype: float64"
      ]
     },
     "execution_count": 25,
     "metadata": {},
     "output_type": "execute_result"
    }
   ],
   "source": [
    "train_dist"
   ]
  },
  {
   "cell_type": "code",
   "execution_count": 26,
   "metadata": {},
   "outputs": [],
   "source": [
    "# extract label of test dataset\n",
    "test_data = data['test']\n",
    "test_data_id = [int(i['id']) for i in test_data]\n",
    "test_label = label[label['id'].isin(test_data_id)]\n",
    "test_label = (test_label == 1).astype(int)\n",
    "\n",
    "# 对所有row相加再除以总数\n",
    "test_dist = test_label.sum(axis=0) / len(test_label)"
   ]
  },
  {
   "cell_type": "code",
   "execution_count": 27,
   "metadata": {},
   "outputs": [
    {
     "data": {
      "text/plain": [
       "id                            0.000000\n",
       "enlarged_cardiomediastinum    0.337017\n",
       "cardiomegaly                  0.069061\n",
       "lung_opacity                  0.016575\n",
       "lung_lesion                   0.591160\n",
       "edema                         0.008287\n",
       "consolidation                 0.046961\n",
       "pneumonia                     0.000000\n",
       "atelectasis                   0.013812\n",
       "pneumothorax                  0.000000\n",
       "pleural_effusion              0.132597\n",
       "pleural_other                 0.259669\n",
       "fracture                      0.016575\n",
       "support_devices               0.069061\n",
       "no_finding                    0.035912\n",
       "dtype: float64"
      ]
     },
     "execution_count": 27,
     "metadata": {},
     "output_type": "execute_result"
    }
   ],
   "source": [
    "test_dist"
   ]
  },
  {
   "cell_type": "code",
   "execution_count": null,
   "metadata": {},
   "outputs": [],
   "source": []
  }
 ],
 "metadata": {
  "kernelspec": {
   "display_name": "radfm",
   "language": "python",
   "name": "python3"
  },
  "language_info": {
   "codemirror_mode": {
    "name": "ipython",
    "version": 3
   },
   "file_extension": ".py",
   "mimetype": "text/x-python",
   "name": "python",
   "nbconvert_exporter": "python",
   "pygments_lexer": "ipython3",
   "version": "3.9.18"
  }
 },
 "nbformat": 4,
 "nbformat_minor": 2
}
