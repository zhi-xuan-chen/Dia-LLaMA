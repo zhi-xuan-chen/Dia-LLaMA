{
 "cells": [
  {
   "cell_type": "code",
   "execution_count": 12,
   "metadata": {},
   "outputs": [],
   "source": [
    "import nibabel as nib\n",
    "\n",
    "# 读取nii.gz文件\n",
    "nii_img = nib.load('/data/chenzhixuan/data/CTRG/Chest_new_1_volume/1038.nii.gz')\n",
    "\n",
    "# # 获取图像数据\n",
    "# data = nii_img.get_fdata()\n",
    "\n",
    "# # 获取图像的头信息\n",
    "# header = nii_img.header\n",
    "\n",
    "# # 获取图像的空间坐标信息\n",
    "# affine = nii_img.affine\n",
    "\n",
    "# # 打印图像信息\n",
    "# print(header)\n",
    "# print(affine)\n",
    "\n",
    "# 进行进一步的操作，例如对图像数据进行处理或可视化\n",
    "# ..."
   ]
  },
  {
   "cell_type": "code",
   "execution_count": 10,
   "metadata": {},
   "outputs": [],
   "source": [
    "import SimpleITK as sitk\n",
    "\n",
    "# 读取nii.gz文件\n",
    "sitk_img = sitk.ReadImage('/data/chenzhixuan/data/CTRG/Chest_new_1_volume/1044.nii.gz')\n",
    "# img_array = sitk.GetArrayFromImage(sitk_img)\n",
    "# print(img_array.shape)  # (512, 512, 1)"
   ]
  },
  {
   "cell_type": "code",
   "execution_count": 11,
   "metadata": {},
   "outputs": [],
   "source": [
    "img_array = sitk.GetArrayFromImage(sitk_img)"
   ]
  },
  {
   "cell_type": "code",
   "execution_count": null,
   "metadata": {},
   "outputs": [],
   "source": []
  }
 ],
 "metadata": {
  "kernelspec": {
   "display_name": "radfm",
   "language": "python",
   "name": "python3"
  },
  "language_info": {
   "codemirror_mode": {
    "name": "ipython",
    "version": 3
   },
   "file_extension": ".py",
   "mimetype": "text/x-python",
   "name": "python",
   "nbconvert_exporter": "python",
   "pygments_lexer": "ipython3",
   "version": "3.9.18"
  }
 },
 "nbformat": 4,
 "nbformat_minor": 2
}
